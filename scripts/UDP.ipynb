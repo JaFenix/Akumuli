{
 "metadata": {
  "name": ""
 },
 "nbformat": 3,
 "nbformat_minor": 0,
 "worksheets": [
  {
   "cells": [
    {
     "cell_type": "code",
     "collapsed": false,
     "input": [
      "import socket\n",
      "import datetime"
     ],
     "language": "python",
     "metadata": {},
     "outputs": [],
     "prompt_number": 1
    },
    {
     "cell_type": "code",
     "collapsed": false,
     "input": [
      "def msg(timestamp, value, metric, **tags):\n",
      "    timestr = timestamp.strftime('+%Y%m%dT%H%M%S.%f')\n",
      "    sseries = '+{0} '.format(metric) + ' '.join(['{0}={1}'.format(key, val) for key, val in tags.iteritems()])\n",
      "    strval  = '+{:.4}'.format(value)\n",
      "    return '\\r\\n'.join([sseries, timestr, strval]) + '\\r\\n'"
     ],
     "language": "python",
     "metadata": {},
     "outputs": [],
     "prompt_number": 2
    },
    {
     "cell_type": "code",
     "collapsed": false,
     "input": [
      "def generate_messages(dt, N, range_name):\n",
      "    delta = datetime.timedelta(microseconds=1)\n",
      "    for i in xrange(0, N):\n",
      "        dt = dt + delta\n",
      "        m = msg(dt, i*0.1, 'temperature', range='first', key='foo')\n",
      "        yield m"
     ],
     "language": "python",
     "metadata": {},
     "outputs": [],
     "prompt_number": 3
    },
    {
     "cell_type": "code",
     "collapsed": false,
     "input": [
      "sock = socket.socket(socket.AF_INET, socket.SOCK_DGRAM, 0)\n",
      "host = '127.0.0.1'\n",
      "port = 8383\n",
      "dt = datetime.datetime.utcnow()\n",
      "for it in generate_messages(dt, 1000, 'first'):\n",
      "    sock.sendto(it, (host, port))"
     ],
     "language": "python",
     "metadata": {},
     "outputs": [],
     "prompt_number": 15
    },
    {
     "cell_type": "code",
     "collapsed": false,
     "input": [
      "msg(datetime.datetime.now(), 0.11, 'cpu',key='value')"
     ],
     "language": "python",
     "metadata": {},
     "outputs": [
      {
       "metadata": {},
       "output_type": "pyout",
       "prompt_number": 12,
       "text": [
        "'+cpu key=value\\r\\n+20151121T021718.376259\\r\\n+0.11\\r\\n'"
       ]
      }
     ],
     "prompt_number": 12
    },
    {
     "cell_type": "code",
     "collapsed": false,
     "input": [],
     "language": "python",
     "metadata": {},
     "outputs": []
    }
   ],
   "metadata": {}
  }
 ]
}